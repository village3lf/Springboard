{
 "cells": [
  {
   "cell_type": "markdown",
   "metadata": {},
   "source": [
    "<img src=\"https://datasciencedegree.wisconsin.edu/wp-content/themes/data-gulp/images/logo.svg\" width=\"300\">\n"
   ]
  },
  {
   "cell_type": "markdown",
   "metadata": {},
   "source": [
    "# EDWARD FRANKE\n",
    "# DS 710\n",
    "# FINAL PROJECT\n"
   ]
  },
  {
   "cell_type": "markdown",
   "metadata": {},
   "source": [
    "### Save your credentials to an external file\n",
    "\n",
    "Make a plain text file on your computer called `twitter_credentials.py`, and put it anywhere but this directory.  I put mine in my home directory for my user.  It will look something like this:\n",
    "\n",
    "    con_key = 'your consumer key goes here'\n",
    "    con_secret = 'your consumer secret goes here'\n",
    "    acc_token = 'your access token goes here'\n",
    "    acc_secret = 'your access secret goes here'\n",
    "    \n",
    "* Save your consumer key, consumer secret, access token, and access secret there.\n",
    "* Don't share these secrets with others!  \n",
    "* It's also possible to generate access tokens and secrets from within an app, but now's not the right time for this."
   ]
  },
  {
   "cell_type": "code",
   "execution_count": 153,
   "metadata": {
    "collapsed": true
   },
   "outputs": [],
   "source": [
    "import tweepy"
   ]
  },
  {
   "cell_type": "code",
   "execution_count": 154,
   "metadata": {
    "collapsed": true
   },
   "outputs": [],
   "source": [
    "%run ~/twitter_credentials.py\n",
    "# this cell will evaluate silently 🙊, and not print anything.  \n",
    "# This is desired, because a person with your keys can act as you on Twitter in literally every way 😟"
   ]
  },
  {
   "cell_type": "code",
   "execution_count": 155,
   "metadata": {
    "collapsed": true
   },
   "outputs": [],
   "source": [
    "#Use tweepy.OAuthHandler to create an authentication using the given key and secret\n",
    "auth = tweepy.OAuthHandler(consumer_key=con_key, consumer_secret=con_secret)\n",
    "auth.set_access_token(acc_token, acc_secret)\n",
    "\n",
    "#Connect to the Twitter API using the authentication\n",
    "api = tweepy.API(auth)"
   ]
  },
  {
   "cell_type": "code",
   "execution_count": 156,
   "metadata": {},
   "outputs": [
    {
     "name": "stdout",
     "output_type": "stream",
     "text": [
      "Could not find any more tweets!\n"
     ]
    },
    {
     "data": {
      "text/plain": [
       "7460"
      ]
     },
     "execution_count": 156,
     "metadata": {},
     "output_type": "execute_result"
    }
   ],
   "source": [
    "#Use the REST API for a static search\n",
    "#Our example finds recent tweets using the hashtag #datascience\n",
    "\n",
    "# tweet_list = api.search(q='#%23apple') #%23 is used to specify '#'\n",
    "\n",
    "num_needed = 25000\n",
    "tweet_list_f = []\n",
    "last_id = -1 # id of last tweet seen\n",
    "while len(tweet_list_f) < num_needed:\n",
    "    try:\n",
    "        new_tweets = api.search(q = '#%23addiction -filter:retweets', tweet_mode='extended', count = 100, max_id = str(last_id - 1))\n",
    "    except tweepy.TweepError as e:\n",
    "        print(\"Error\", e)\n",
    "        break\n",
    "    else:\n",
    "        if not new_tweets:\n",
    "            print(\"Could not find any more tweets!\")\n",
    "            break\n",
    "        tweet_list_f.extend(new_tweets)\n",
    "        last_id = new_tweets[-1].id\n",
    "\n",
    "len(tweet_list_f)\n",
    "# primary addiction search"
   ]
  },
  {
   "cell_type": "code",
   "execution_count": 157,
   "metadata": {},
   "outputs": [
    {
     "name": "stdout",
     "output_type": "stream",
     "text": [
      "Could not find any more tweets!\n"
     ]
    },
    {
     "data": {
      "text/plain": [
       "30"
      ]
     },
     "execution_count": 157,
     "metadata": {},
     "output_type": "execute_result"
    }
   ],
   "source": [
    "#Use the REST API for a static search\n",
    "#Our example finds recent tweets using the hashtag #datascience\n",
    "\n",
    "# tweet_list = api.search(q='#%23apple') #%23 is used to specify '#'\n",
    "\n",
    "num_needed = 25000\n",
    "tweet_list_d = []\n",
    "last_id = -1 # id of last tweet seen\n",
    "while len(tweet_list_d) < num_needed:\n",
    "    try:\n",
    "        new_tweets = api.search(q = '#%23driving%20texting -filter:retweets', tweet_mode='extended', count = 1000, max_id = str(last_id - 1))\n",
    "    except tweepy.TweepError as e:\n",
    "        print(\"Error\", e)\n",
    "        break\n",
    "    else:\n",
    "        if not new_tweets:\n",
    "            print(\"Could not find any more tweets!\")\n",
    "            break\n",
    "        tweet_list_d.extend(new_tweets)\n",
    "        last_id = new_tweets[-1].id\n",
    "        \n",
    "len(tweet_list_d)\n",
    "# tech addiction, texting while driving"
   ]
  },
  {
   "cell_type": "code",
   "execution_count": 165,
   "metadata": {},
   "outputs": [
    {
     "name": "stdout",
     "output_type": "stream",
     "text": [
      "Could not find any more tweets!\n",
      "Could not find any more tweets!\n"
     ]
    },
    {
     "data": {
      "text/plain": [
       "2488"
      ]
     },
     "execution_count": 165,
     "metadata": {},
     "output_type": "execute_result"
    }
   ],
   "source": [
    "#Use the REST API for a static search\n",
    "#Our example finds recent tweets using the hashtag #datascience\n",
    "\n",
    "# tweet_list = api.search(q='#%23apple') #%23 is used to specify '#'\n",
    "\n",
    "num_needed = 25000\n",
    "tweet_list_z = []\n",
    "last_id = -1 # id of last tweet seen\n",
    "while len(tweet_list_z) < num_needed:\n",
    "    try:\n",
    "        new_tweets = api.search(q = '#%23addiction%20recovery -filter:retweets', tweet_mode='extended', count = 1000, max_id = str(last_id - 1))\n",
    "    except tweepy.TweepError as e:\n",
    "        print(\"Error\", e)\n",
    "        break\n",
    "    else:\n",
    "        if not new_tweets:\n",
    "            print(\"Could not find any more tweets!\")\n",
    "            break\n",
    "        tweet_list_z.extend(new_tweets)\n",
    "        last_id = new_tweets[-1].id\n",
    "while len(tweet_list_z) < num_needed:\n",
    "    try:\n",
    "        new_tweets = api.search(q = '#%23addiction%20treatment -filter:retweets', tweet_mode='extended', count = 1000, max_id = str(last_id - 1))\n",
    "    except tweepy.TweepError as e:\n",
    "        print(\"Error\", e)\n",
    "        break\n",
    "    else:\n",
    "        if not new_tweets:\n",
    "            print(\"Could not find any more tweets!\")\n",
    "            break\n",
    "        tweet_list_z.extend(new_tweets)\n",
    "        last_id = new_tweets[-1].id\n",
    "        \n",
    "len(tweet_list_z)\n",
    "# tech addiction, texting while driving"
   ]
  },
  {
   "cell_type": "code",
   "execution_count": 158,
   "metadata": {},
   "outputs": [
    {
     "name": "stdout",
     "output_type": "stream",
     "text": [
      "Could not find any more tweets!\n"
     ]
    },
    {
     "data": {
      "text/plain": [
       "25"
      ]
     },
     "execution_count": 158,
     "metadata": {},
     "output_type": "execute_result"
    }
   ],
   "source": [
    "#Use the REST API for a static search\n",
    "#Our example finds recent tweets using the hashtag #datascience\n",
    "\n",
    "# tweet_list = api.search(q='#%23apple') #%23 is used to specify '#'\n",
    "\n",
    "num_needed = 25000\n",
    "tweet_list_e = []\n",
    "last_id = -1 # id of last tweet seen\n",
    "while len(tweet_list_e) < num_needed:\n",
    "    try:\n",
    "        new_tweets = api.search(q = '#%23phone%20down -filter:retweets', tweet_mode='extended', count = 100, max_id = str(last_id - 1))\n",
    "    except tweepy.TweepError as e:\n",
    "        print(\"Error\", e)\n",
    "        break\n",
    "    else:\n",
    "        if not new_tweets:\n",
    "            print(\"Could not find any more tweets!\")\n",
    "            break\n",
    "        tweet_list_e.extend(new_tweets)\n",
    "        last_id = new_tweets[-1].id\n",
    "\n",
    "len(tweet_list_e)\n",
    "# tech addiction, phone more important than another person"
   ]
  },
  {
   "cell_type": "code",
   "execution_count": 159,
   "metadata": {},
   "outputs": [
    {
     "data": {
      "text/html": [
       "<div>\n",
       "<style>\n",
       "    .dataframe thead tr:only-child th {\n",
       "        text-align: right;\n",
       "    }\n",
       "\n",
       "    .dataframe thead th {\n",
       "        text-align: left;\n",
       "    }\n",
       "\n",
       "    .dataframe tbody tr th {\n",
       "        vertical-align: top;\n",
       "    }\n",
       "</style>\n",
       "<table border=\"1\" class=\"dataframe\">\n",
       "  <thead>\n",
       "    <tr style=\"text-align: right;\">\n",
       "      <th></th>\n",
       "      <th>Tweet_Text</th>\n",
       "      <th>retweet</th>\n",
       "      <th>language</th>\n",
       "    </tr>\n",
       "  </thead>\n",
       "  <tbody>\n",
       "    <tr>\n",
       "      <th>0</th>\n",
       "      <td>Sophisticated #Android #malware tracks all you...</td>\n",
       "      <td>False</td>\n",
       "      <td>en</td>\n",
       "    </tr>\n",
       "    <tr>\n",
       "      <th>1</th>\n",
       "      <td>Two ways that will not only change how many #b...</td>\n",
       "      <td>False</td>\n",
       "      <td>en</td>\n",
       "    </tr>\n",
       "    <tr>\n",
       "      <th>2</th>\n",
       "      <td>Dropped my #phone down a storm drain outside t...</td>\n",
       "      <td>False</td>\n",
       "      <td>en</td>\n",
       "    </tr>\n",
       "    <tr>\n",
       "      <th>3</th>\n",
       "      <td>This is a good option for many people who are ...</td>\n",
       "      <td>False</td>\n",
       "      <td>en</td>\n",
       "    </tr>\n",
       "    <tr>\n",
       "      <th>4</th>\n",
       "      <td>Moment App – Put down your #phone and get back...</td>\n",
       "      <td>False</td>\n",
       "      <td>en</td>\n",
       "    </tr>\n",
       "  </tbody>\n",
       "</table>\n",
       "</div>"
      ],
      "text/plain": [
       "                                          Tweet_Text  retweet language\n",
       "0  Sophisticated #Android #malware tracks all you...    False       en\n",
       "1  Two ways that will not only change how many #b...    False       en\n",
       "2  Dropped my #phone down a storm drain outside t...    False       en\n",
       "3  This is a good option for many people who are ...    False       en\n",
       "4  Moment App – Put down your #phone and get back...    False       en"
      ]
     },
     "execution_count": 159,
     "metadata": {},
     "output_type": "execute_result"
    }
   ],
   "source": [
    "import pandas as pd\n",
    "import numpy as np\n",
    "\n",
    "# text = text.lower()\n",
    "# text = text.lower()\n",
    "data4 = pd.DataFrame(data=[tweet.full_text for tweet in tweet_list_e], columns=['Tweet_Text'])\n",
    "data4['retweet'] = np.array([tweet.retweeted for tweet in tweet_list_e])\n",
    "data4['language'] = np.array([tweet.lang for tweet in tweet_list_e])\n",
    "#data['geo'] = np.array([tweet.geo for tweet in tweet_list])\n",
    "#data['date time'] = np.array([tweet.created_at for tweet in tweet_list])\n",
    "#data['id'] = np.array([tweet.id for tweet in tweet_list])\n",
    "data4.head()"
   ]
  },
  {
   "cell_type": "markdown",
   "metadata": {},
   "source": [
    "See [twitter's search documentation](https://dev.twitter.com/rest/public/search) for examples of query operators.  Pay attention to how to URL encode your query.  [This w3schools page](https://www.w3schools.com/tags/ref_urlencode.asp) has information on what `%23` and other encodings for URL's mean."
   ]
  },
  {
   "cell_type": "code",
   "execution_count": 160,
   "metadata": {},
   "outputs": [
    {
     "data": {
      "text/html": [
       "<div>\n",
       "<style>\n",
       "    .dataframe thead tr:only-child th {\n",
       "        text-align: right;\n",
       "    }\n",
       "\n",
       "    .dataframe thead th {\n",
       "        text-align: left;\n",
       "    }\n",
       "\n",
       "    .dataframe tbody tr th {\n",
       "        vertical-align: top;\n",
       "    }\n",
       "</style>\n",
       "<table border=\"1\" class=\"dataframe\">\n",
       "  <thead>\n",
       "    <tr style=\"text-align: right;\">\n",
       "      <th></th>\n",
       "      <th>Work_Tweet_Text</th>\n",
       "      <th>retweet</th>\n",
       "      <th>language</th>\n",
       "    </tr>\n",
       "  </thead>\n",
       "  <tbody>\n",
       "    <tr>\n",
       "      <th>0</th>\n",
       "      <td>Get in the grove at the treatment center in Ma...</td>\n",
       "      <td>False</td>\n",
       "      <td>en</td>\n",
       "    </tr>\n",
       "    <tr>\n",
       "      <th>1</th>\n",
       "      <td>Known by millions for her starring role on the...</td>\n",
       "      <td>False</td>\n",
       "      <td>en</td>\n",
       "    </tr>\n",
       "    <tr>\n",
       "      <th>2</th>\n",
       "      <td>Rock out at the treatment center in Malibu CA,...</td>\n",
       "      <td>False</td>\n",
       "      <td>en</td>\n",
       "    </tr>\n",
       "    <tr>\n",
       "      <th>3</th>\n",
       "      <td>Rock at the treatment center in Malibu CA, San...</td>\n",
       "      <td>False</td>\n",
       "      <td>en</td>\n",
       "    </tr>\n",
       "    <tr>\n",
       "      <th>4</th>\n",
       "      <td>I’m already looking forward to the coffee I’m ...</td>\n",
       "      <td>False</td>\n",
       "      <td>en</td>\n",
       "    </tr>\n",
       "  </tbody>\n",
       "</table>\n",
       "</div>"
      ],
      "text/plain": [
       "                                     Work_Tweet_Text  retweet language\n",
       "0  Get in the grove at the treatment center in Ma...    False       en\n",
       "1  Known by millions for her starring role on the...    False       en\n",
       "2  Rock out at the treatment center in Malibu CA,...    False       en\n",
       "3  Rock at the treatment center in Malibu CA, San...    False       en\n",
       "4  I’m already looking forward to the coffee I’m ...    False       en"
      ]
     },
     "execution_count": 160,
     "metadata": {},
     "output_type": "execute_result"
    }
   ],
   "source": [
    "import pandas as pd\n",
    "import numpy as np\n",
    "\n",
    "# text = text.lower()\n",
    "data = pd.DataFrame(data=[tweet.full_text for tweet in tweet_list_f], columns=['Work_Tweet_Text'])\n",
    "data['retweet'] = np.array([tweet.retweeted for tweet in tweet_list_f])\n",
    "data['language'] = np.array([tweet.lang for tweet in tweet_list_f])\n",
    "#data2['retweeted'] = np.array([tweet.retweeted for tweet in tweet_list_d])\n",
    "#data['date time'] = np.array([tweet.created_at for tweet in tweet_list])\n",
    "#data['id'] = np.array([tweet.id for tweet in tweet_list])\n",
    "data.head()"
   ]
  },
  {
   "cell_type": "code",
   "execution_count": 161,
   "metadata": {},
   "outputs": [
    {
     "data": {
      "text/html": [
       "<div>\n",
       "<style>\n",
       "    .dataframe thead tr:only-child th {\n",
       "        text-align: right;\n",
       "    }\n",
       "\n",
       "    .dataframe thead th {\n",
       "        text-align: left;\n",
       "    }\n",
       "\n",
       "    .dataframe tbody tr th {\n",
       "        vertical-align: top;\n",
       "    }\n",
       "</style>\n",
       "<table border=\"1\" class=\"dataframe\">\n",
       "  <thead>\n",
       "    <tr style=\"text-align: right;\">\n",
       "      <th></th>\n",
       "      <th>Tweet_Text</th>\n",
       "      <th>retweet</th>\n",
       "      <th>language</th>\n",
       "    </tr>\n",
       "  </thead>\n",
       "  <tbody>\n",
       "    <tr>\n",
       "      <th>0</th>\n",
       "      <td>How to prevent #teens from #texting and #drivi...</td>\n",
       "      <td>False</td>\n",
       "      <td>en</td>\n",
       "    </tr>\n",
       "    <tr>\n",
       "      <th>1</th>\n",
       "      <td>We surveyed over 2000 drivers and 42% admitted...</td>\n",
       "      <td>False</td>\n",
       "      <td>en</td>\n",
       "    </tr>\n",
       "    <tr>\n",
       "      <th>2</th>\n",
       "      <td>Best Way to #Stop Your #Child  From #Texting W...</td>\n",
       "      <td>False</td>\n",
       "      <td>en</td>\n",
       "    </tr>\n",
       "    <tr>\n",
       "      <th>3</th>\n",
       "      <td>#NzKs14 #Special #Thanks to @NzPolice @TVNZ @S...</td>\n",
       "      <td>False</td>\n",
       "      <td>en</td>\n",
       "    </tr>\n",
       "    <tr>\n",
       "      <th>4</th>\n",
       "      <td>This morbid phone case should keep you from te...</td>\n",
       "      <td>False</td>\n",
       "      <td>en</td>\n",
       "    </tr>\n",
       "  </tbody>\n",
       "</table>\n",
       "</div>"
      ],
      "text/plain": [
       "                                          Tweet_Text  retweet language\n",
       "0  How to prevent #teens from #texting and #drivi...    False       en\n",
       "1  We surveyed over 2000 drivers and 42% admitted...    False       en\n",
       "2  Best Way to #Stop Your #Child  From #Texting W...    False       en\n",
       "3  #NzKs14 #Special #Thanks to @NzPolice @TVNZ @S...    False       en\n",
       "4  This morbid phone case should keep you from te...    False       en"
      ]
     },
     "execution_count": 161,
     "metadata": {},
     "output_type": "execute_result"
    }
   ],
   "source": [
    "import pandas as pd\n",
    "import numpy as np\n",
    "\n",
    "# text = text.lower()\n",
    "data2 = pd.DataFrame(data=[tweet.full_text for tweet in tweet_list_d], columns=['Tweet_Text'])\n",
    "data2['retweet'] = np.array([tweet.retweeted for tweet in tweet_list_d])\n",
    "data2['language'] = np.array([tweet.lang for tweet in tweet_list_d])\n",
    "data2.head()"
   ]
  },
  {
   "cell_type": "code",
   "execution_count": 166,
   "metadata": {},
   "outputs": [
    {
     "data": {
      "text/html": [
       "<div>\n",
       "<style>\n",
       "    .dataframe thead tr:only-child th {\n",
       "        text-align: right;\n",
       "    }\n",
       "\n",
       "    .dataframe thead th {\n",
       "        text-align: left;\n",
       "    }\n",
       "\n",
       "    .dataframe tbody tr th {\n",
       "        vertical-align: top;\n",
       "    }\n",
       "</style>\n",
       "<table border=\"1\" class=\"dataframe\">\n",
       "  <thead>\n",
       "    <tr style=\"text-align: right;\">\n",
       "      <th></th>\n",
       "      <th>Treatment_Tweet_Text</th>\n",
       "      <th>retweet</th>\n",
       "      <th>language</th>\n",
       "    </tr>\n",
       "  </thead>\n",
       "  <tbody>\n",
       "    <tr>\n",
       "      <th>0</th>\n",
       "      <td>Have confidence in yourself and your ability t...</td>\n",
       "      <td>False</td>\n",
       "      <td>en</td>\n",
       "    </tr>\n",
       "    <tr>\n",
       "      <th>1</th>\n",
       "      <td>In March, I interview Congressman @joekennedy ...</td>\n",
       "      <td>False</td>\n",
       "      <td>en</td>\n",
       "    </tr>\n",
       "    <tr>\n",
       "      <th>2</th>\n",
       "      <td>#Golf. Great people. Good cause. July 23. Help...</td>\n",
       "      <td>False</td>\n",
       "      <td>en</td>\n",
       "    </tr>\n",
       "    <tr>\n",
       "      <th>3</th>\n",
       "      <td>Sober living provides a safe and clean environ...</td>\n",
       "      <td>False</td>\n",
       "      <td>en</td>\n",
       "    </tr>\n",
       "    <tr>\n",
       "      <th>4</th>\n",
       "      <td>The fun starts Today at Soba Recovery Center C...</td>\n",
       "      <td>False</td>\n",
       "      <td>en</td>\n",
       "    </tr>\n",
       "  </tbody>\n",
       "</table>\n",
       "</div>"
      ],
      "text/plain": [
       "                                Treatment_Tweet_Text  retweet language\n",
       "0  Have confidence in yourself and your ability t...    False       en\n",
       "1  In March, I interview Congressman @joekennedy ...    False       en\n",
       "2  #Golf. Great people. Good cause. July 23. Help...    False       en\n",
       "3  Sober living provides a safe and clean environ...    False       en\n",
       "4  The fun starts Today at Soba Recovery Center C...    False       en"
      ]
     },
     "execution_count": 166,
     "metadata": {},
     "output_type": "execute_result"
    }
   ],
   "source": [
    "import pandas as pd\n",
    "import numpy as np\n",
    "\n",
    "# text = text.lower()\n",
    "# text = text.lower()\n",
    "dataz = pd.DataFrame(data=[tweet.full_text for tweet in tweet_list_z], columns=['Treatment_Tweet_Text'])\n",
    "dataz['retweet'] = np.array([tweet.retweeted for tweet in tweet_list_z])\n",
    "dataz['language'] = np.array([tweet.lang for tweet in tweet_list_z])\n",
    "#data['geo'] = np.array([tweet.geo for tweet in tweet_list])\n",
    "#data['date time'] = np.array([tweet.created_at for tweet in tweet_list])\n",
    "#data['id'] = np.array([tweet.id for tweet in tweet_list])\n",
    "dataz.head()"
   ]
  },
  {
   "cell_type": "code",
   "execution_count": 42,
   "metadata": {},
   "outputs": [
    {
     "data": {
      "text/html": [
       "<div>\n",
       "<style>\n",
       "    .dataframe thead tr:only-child th {\n",
       "        text-align: right;\n",
       "    }\n",
       "\n",
       "    .dataframe thead th {\n",
       "        text-align: left;\n",
       "    }\n",
       "\n",
       "    .dataframe tbody tr th {\n",
       "        vertical-align: top;\n",
       "    }\n",
       "</style>\n",
       "<table border=\"1\" class=\"dataframe\">\n",
       "  <thead>\n",
       "    <tr style=\"text-align: right;\">\n",
       "      <th></th>\n",
       "      <th>Tweet_Text</th>\n",
       "      <th>retweet</th>\n",
       "      <th>language</th>\n",
       "    </tr>\n",
       "  </thead>\n",
       "  <tbody>\n",
       "    <tr>\n",
       "      <th>count</th>\n",
       "      <td>7891</td>\n",
       "      <td>7891</td>\n",
       "      <td>7891</td>\n",
       "    </tr>\n",
       "    <tr>\n",
       "      <th>unique</th>\n",
       "      <td>7678</td>\n",
       "      <td>1</td>\n",
       "      <td>24</td>\n",
       "    </tr>\n",
       "    <tr>\n",
       "      <th>top</th>\n",
       "      <td>Sometimes you can only find Heaven by slowly b...</td>\n",
       "      <td>False</td>\n",
       "      <td>en</td>\n",
       "    </tr>\n",
       "    <tr>\n",
       "      <th>freq</th>\n",
       "      <td>10</td>\n",
       "      <td>7891</td>\n",
       "      <td>7221</td>\n",
       "    </tr>\n",
       "  </tbody>\n",
       "</table>\n",
       "</div>"
      ],
      "text/plain": [
       "                                               Tweet_Text retweet language\n",
       "count                                                7891    7891     7891\n",
       "unique                                               7678       1       24\n",
       "top     Sometimes you can only find Heaven by slowly b...   False       en\n",
       "freq                                                   10    7891     7221"
      ]
     },
     "execution_count": 42,
     "metadata": {},
     "output_type": "execute_result"
    }
   ],
   "source": [
    "data.describe()"
   ]
  },
  {
   "cell_type": "code",
   "execution_count": 162,
   "metadata": {},
   "outputs": [],
   "source": [
    "def count_addiction(all_text):\n",
    "    my_data = []\n",
    "    addiction = 0 # create variables starting at 0 for all addiction types\n",
    "    illegal_drugs = 0\n",
    "    prescription_drugs = 0\n",
    "    shopping = 0\n",
    "    sex = 0\n",
    "    gambling = 0\n",
    "    technology = 0\n",
    "    not_tech = 0\n",
    "    alcohol = 0\n",
    "    smoking = 0\n",
    "    caffeine = 0\n",
    "    addiction = len(tweet_list_d) + len(tweet_list_e) # add counts of put phone down and driving and texting as technology addicted\n",
    "    technology = len(tweet_list_d) + len(tweet_list_e)\n",
    "    for s in all_text:\n",
    "        words = [\"cocaine\", \"meth\", \"marijuana\", \"heroin\", \"drugs\"]\n",
    "        for w in words:\n",
    "            if w in s:\n",
    "                illegal_drugs = illegal_drugs + 1\n",
    "                addiction = addiction + 1\n",
    "                break # only count one occurance of addiction method\n",
    "        words = [\"pills\", \"opioid\", \"oxycontin\", \"painkiller\", \"painkillers\"]\n",
    "        for w in words:\n",
    "            if w in s:\n",
    "                prescription_drugs = prescription_drugs + 1\n",
    "                addiction = addiction + 1\n",
    "                break\n",
    "        words = [\"shop\", \"shopping\", \"buy\", \"buying\"]\n",
    "        for w in words:\n",
    "            if w in s:\n",
    "                shopping = shopping + 1\n",
    "                addiction = addiction + 1\n",
    "                break\n",
    "        words = [\"sex\", \"porn\", \"pornography\"]\n",
    "        for w in words:\n",
    "            if w in s:\n",
    "                sex = sex + 1\n",
    "                addiction = addiction + 1\n",
    "                break\n",
    "        words = [\"gambling\", \"gamble\", \"bet\", \"betting\", \"casino\", \"horse\", \"horses\"]\n",
    "        for w in words:\n",
    "            if w in s:\n",
    "                gambling = gambling + 1\n",
    "                addiction = addiction + 1\n",
    "                break\n",
    "        words = [\"alcohol\", \"alcoholism\", \"drink\", \"drinking\", \"party\"]\n",
    "        for w in words:\n",
    "            if w in s:\n",
    "                alcohol = alcohol + 1\n",
    "                addiction = addiction + 1\n",
    "                break\n",
    "        words = [\"smoking\", \"smoke\", \"cigarettes\", \"ecigarettes\"]\n",
    "        for w in words:\n",
    "            if w in s:\n",
    "                smoking = smoking + 1\n",
    "                addiction = addiction + 1\n",
    "                break\n",
    "        words = [\"caffeine\", \"coffee\", \"tea\", \"red bull\", \"energy\"]\n",
    "        for w in words:\n",
    "            if w in s:\n",
    "                caffeine = caffeine + 1\n",
    "                addiction = addiction + 1\n",
    "                break\n",
    "        words = [\"phone\", \"iphone\", \"digital\", \"technology\", \"facebook\", \"smartphone\", \"texting\", \"driving\", \"gaming\", \"internet\", \"video\"]\n",
    "        for w in words:\n",
    "            if w in s:\n",
    "                technology = technology + 1\n",
    "                addiction = addiction + 1\n",
    "                break\n",
    "        words = [\"caffeine\", \"coffee\", \"tea\", \"red bull\", \"energy\", \"cocaine\", \"meth\", \"marijuana\", \"heroin\", \"drugs\", \"pills\", \"opioid\", \"oxycontin\", \"painkiller\", \"painkillers\",\"shop\", \"shopping\", \"buy\", \"buying\",\"sex\", \"porn\", \"pornography\", \"gambling\", \"gamble\", \"bet\", \"betting\", \"casino\", \"horse\", \"horses\", \"alcohol\", \"alcoholism\", \"drink\", \"drinking\", \"party\",\"smoking\", \"smoke\", \"cigarettes\", \"ecigarettes\"]\n",
    "        for w in words:\n",
    "            if w in s:\n",
    "                not_tech = not_tech + 1\n",
    "                break\n",
    "    # create a dataframe to hold the results\n",
    "    addiction_names = [\"Total_addiction\", \"illegal_drugs\", \"prescription_drugs\", \"shopping\", \"sex\", \"gambling\", \"technology\", \"alcohol\", \"smoking\", \"Caffeine\", \"Not Tech\"]\n",
    "    addiction_values = [addiction, illegal_drugs, prescription_drugs, shopping, sex, gambling, technology, alcohol, smoking, caffeine, not_tech]\n",
    "    my_data_df = pd.DataFrame({\"Addiction\" : addiction_names, \"Number\" : addiction_values})\n",
    "    return my_data_df"
   ]
  },
  {
   "cell_type": "code",
   "execution_count": 163,
   "metadata": {},
   "outputs": [
    {
     "data": {
      "text/html": [
       "<div>\n",
       "<style>\n",
       "    .dataframe thead tr:only-child th {\n",
       "        text-align: right;\n",
       "    }\n",
       "\n",
       "    .dataframe thead th {\n",
       "        text-align: left;\n",
       "    }\n",
       "\n",
       "    .dataframe tbody tr th {\n",
       "        vertical-align: top;\n",
       "    }\n",
       "</style>\n",
       "<table border=\"1\" class=\"dataframe\">\n",
       "  <thead>\n",
       "    <tr style=\"text-align: right;\">\n",
       "      <th></th>\n",
       "      <th>Addiction</th>\n",
       "      <th>Number</th>\n",
       "    </tr>\n",
       "  </thead>\n",
       "  <tbody>\n",
       "    <tr>\n",
       "      <th>0</th>\n",
       "      <td>Total_addiction</td>\n",
       "      <td>3711</td>\n",
       "    </tr>\n",
       "    <tr>\n",
       "      <th>1</th>\n",
       "      <td>illegal_drugs</td>\n",
       "      <td>741</td>\n",
       "    </tr>\n",
       "    <tr>\n",
       "      <th>2</th>\n",
       "      <td>prescription_drugs</td>\n",
       "      <td>624</td>\n",
       "    </tr>\n",
       "    <tr>\n",
       "      <th>3</th>\n",
       "      <td>shopping</td>\n",
       "      <td>90</td>\n",
       "    </tr>\n",
       "    <tr>\n",
       "      <th>4</th>\n",
       "      <td>sex</td>\n",
       "      <td>174</td>\n",
       "    </tr>\n",
       "    <tr>\n",
       "      <th>5</th>\n",
       "      <td>gambling</td>\n",
       "      <td>263</td>\n",
       "    </tr>\n",
       "    <tr>\n",
       "      <th>6</th>\n",
       "      <td>technology</td>\n",
       "      <td>362</td>\n",
       "    </tr>\n",
       "    <tr>\n",
       "      <th>7</th>\n",
       "      <td>alcohol</td>\n",
       "      <td>1182</td>\n",
       "    </tr>\n",
       "    <tr>\n",
       "      <th>8</th>\n",
       "      <td>smoking</td>\n",
       "      <td>129</td>\n",
       "    </tr>\n",
       "    <tr>\n",
       "      <th>9</th>\n",
       "      <td>Caffeine</td>\n",
       "      <td>146</td>\n",
       "    </tr>\n",
       "    <tr>\n",
       "      <th>10</th>\n",
       "      <td>Not Tech</td>\n",
       "      <td>2775</td>\n",
       "    </tr>\n",
       "  </tbody>\n",
       "</table>\n",
       "</div>"
      ],
      "text/plain": [
       "             Addiction  Number\n",
       "0      Total_addiction    3711\n",
       "1        illegal_drugs     741\n",
       "2   prescription_drugs     624\n",
       "3             shopping      90\n",
       "4                  sex     174\n",
       "5             gambling     263\n",
       "6           technology     362\n",
       "7              alcohol    1182\n",
       "8              smoking     129\n",
       "9             Caffeine     146\n",
       "10            Not Tech    2775"
      ]
     },
     "execution_count": 163,
     "metadata": {},
     "output_type": "execute_result"
    }
   ],
   "source": [
    "import csv\n",
    "import string\n",
    "from collections import Counter\n",
    "\n",
    "# call the function to extract the data from the tweet searches and store it into a variable\n",
    "dataframe_addiction = count_addiction(data['Work_Tweet_Text'])\n",
    "# print the results\n",
    "count_addiction(data['Work_Tweet_Text'])"
   ]
  },
  {
   "cell_type": "code",
   "execution_count": 167,
   "metadata": {},
   "outputs": [
    {
     "data": {
      "text/html": [
       "<div>\n",
       "<style>\n",
       "    .dataframe thead tr:only-child th {\n",
       "        text-align: right;\n",
       "    }\n",
       "\n",
       "    .dataframe thead th {\n",
       "        text-align: left;\n",
       "    }\n",
       "\n",
       "    .dataframe tbody tr th {\n",
       "        vertical-align: top;\n",
       "    }\n",
       "</style>\n",
       "<table border=\"1\" class=\"dataframe\">\n",
       "  <thead>\n",
       "    <tr style=\"text-align: right;\">\n",
       "      <th></th>\n",
       "      <th>Addiction</th>\n",
       "      <th>Number</th>\n",
       "    </tr>\n",
       "  </thead>\n",
       "  <tbody>\n",
       "    <tr>\n",
       "      <th>0</th>\n",
       "      <td>Total_addiction</td>\n",
       "      <td>1411</td>\n",
       "    </tr>\n",
       "    <tr>\n",
       "      <th>1</th>\n",
       "      <td>illegal_drugs</td>\n",
       "      <td>183</td>\n",
       "    </tr>\n",
       "    <tr>\n",
       "      <th>2</th>\n",
       "      <td>prescription_drugs</td>\n",
       "      <td>152</td>\n",
       "    </tr>\n",
       "    <tr>\n",
       "      <th>3</th>\n",
       "      <td>shopping</td>\n",
       "      <td>44</td>\n",
       "    </tr>\n",
       "    <tr>\n",
       "      <th>4</th>\n",
       "      <td>sex</td>\n",
       "      <td>30</td>\n",
       "    </tr>\n",
       "    <tr>\n",
       "      <th>5</th>\n",
       "      <td>gambling</td>\n",
       "      <td>77</td>\n",
       "    </tr>\n",
       "    <tr>\n",
       "      <th>6</th>\n",
       "      <td>technology</td>\n",
       "      <td>120</td>\n",
       "    </tr>\n",
       "    <tr>\n",
       "      <th>7</th>\n",
       "      <td>alcohol</td>\n",
       "      <td>766</td>\n",
       "    </tr>\n",
       "    <tr>\n",
       "      <th>8</th>\n",
       "      <td>smoking</td>\n",
       "      <td>4</td>\n",
       "    </tr>\n",
       "    <tr>\n",
       "      <th>9</th>\n",
       "      <td>Caffeine</td>\n",
       "      <td>35</td>\n",
       "    </tr>\n",
       "    <tr>\n",
       "      <th>10</th>\n",
       "      <td>Not Tech</td>\n",
       "      <td>1087</td>\n",
       "    </tr>\n",
       "  </tbody>\n",
       "</table>\n",
       "</div>"
      ],
      "text/plain": [
       "             Addiction  Number\n",
       "0      Total_addiction    1411\n",
       "1        illegal_drugs     183\n",
       "2   prescription_drugs     152\n",
       "3             shopping      44\n",
       "4                  sex      30\n",
       "5             gambling      77\n",
       "6           technology     120\n",
       "7              alcohol     766\n",
       "8              smoking       4\n",
       "9             Caffeine      35\n",
       "10            Not Tech    1087"
      ]
     },
     "execution_count": 167,
     "metadata": {},
     "output_type": "execute_result"
    }
   ],
   "source": [
    "import csv\n",
    "import string\n",
    "from collections import Counter\n",
    "\n",
    "# call the function to extract the data from the tweet searches and store it into a variable\n",
    "dataframe_addiction = count_addiction(dataz['Treatment_Tweet_Text'])\n",
    "# print the results\n",
    "count_addiction(dataz['Treatment_Tweet_Text'])"
   ]
  },
  {
   "cell_type": "markdown",
   "metadata": {},
   "source": [
    "# markdown cell of styles of addiction and it's related symptoms\n",
    "illegal_drugs = [\"cocaine\", \"meth\", \"marijuana\", \"heroin\", \"drugs\"]\n",
    "perscription_drugs = [\"pills\", \"opioid\", \"oxycontin\", \"painkiller\", \"painkillers\"]\n",
    "shopping = [\"shop\", \"shopping\", \"buy\", \"buying\"]\n",
    "sex = [\"sex\", \"porn\", \"pornography\"]\n",
    "gambling = [\"gambling\", \"gamble\", \"bet\", \"betting\", \"casino\", \"horse\", \"horses\"]\n",
    "alcohol = [\"alcohol\", \"alcoholism\", \"drink\", \"drinking\", \"party\"]\n",
    "smoking = [\"smoking\", \"smoke\", \"cigarettes\", \"ecigarettes\"]\n",
    "technology = [\"phone\", \"iphone\", \"digital\", \"technology\", \"facebook\", \"smartphone\", \"texting\", \"driving\", \"gaming\", \"internet\", \"video\"]\n",
    "caffeine = [\"caffeine\", \"coffee\", \"tea\", \"red bull\", \"energy\"]"
   ]
  },
  {
   "cell_type": "markdown",
   "metadata": {},
   "source": [
    "# prepare to export dataframe to csv file format\n",
    "\n",
    "my_data_df.fillna(\"\", inplace=True)\n",
    "my_data_df"
   ]
  },
  {
   "cell_type": "code",
   "execution_count": 168,
   "metadata": {},
   "outputs": [],
   "source": [
    "# export dataframe to csv file\n",
    "dataframe_addiction.to_csv(\"ds710_final_addictionz.csv\", index=False)"
   ]
  },
  {
   "cell_type": "code",
   "execution_count": null,
   "metadata": {
    "collapsed": true
   },
   "outputs": [],
   "source": []
  }
 ],
 "metadata": {
  "kernelspec": {
   "display_name": "Python 3",
   "language": "python",
   "name": "python3"
  },
  "language_info": {
   "codemirror_mode": {
    "name": "ipython",
    "version": 3
   },
   "file_extension": ".py",
   "mimetype": "text/x-python",
   "name": "python",
   "nbconvert_exporter": "python",
   "pygments_lexer": "ipython3",
   "version": "3.6.3"
  }
 },
 "nbformat": 4,
 "nbformat_minor": 1
}
